{
 "cells": [
  {
   "cell_type": "code",
   "execution_count": 1,
   "metadata": {},
   "outputs": [],
   "source": [
    "import os\n",
    "import glob\n",
    "from collections import Counter, defaultdict\n",
    "\n",
    "import omop_analyze\n",
    "import s4s_analyze\n",
    "\n",
    "original_path = os.getcwd()\n",
    "\n",
    "def omop_formatted(tables):\n",
    "    return {filename: len(table) for filename, table in tables.items()}\n",
    "    \n",
    "def s4s_formatted(counts):\n",
    "    return {k: len(v) for k, v in counts.items()}\n",
    "\n",
    "def filter_matches(omop_tables, s4s_uniques):\n",
    "    return filter_procedures(omop_tables, s4s_uniques)\n",
    "\n",
    "def filter_procedures(omop_tables, s4s_uniques):\n",
    "    return omop_tables, s4s_uniques"
   ]
  },
  {
   "cell_type": "code",
   "execution_count": 2,
   "metadata": {},
   "outputs": [
    {
     "name": "stdout",
     "output_type": "stream",
     "text": [
      "['condition.csv', 'observation_1.csv', 'observation_2.csv', 'procedure.csv']\n"
     ]
    }
   ],
   "source": [
    "omop_people = omop_analyze.parse_omop()\n",
    "omop_people_stats = {}"
   ]
  },
  {
   "cell_type": "code",
   "execution_count": 3,
   "metadata": {},
   "outputs": [
    {
     "name": "stdout",
     "output_type": "stream",
     "text": [
      "Got 72 omop participants\n"
     ]
    }
   ],
   "source": [
    "for person, tables in omop_people.items():\n",
    "    omop_people_stats[person] = {}\n",
    "    for filename, incidents in tables.items():\n",
    "        omop_people_stats[person][filename] = [\n",
    "            incident[omop_analyze.important_column[filename]]\n",
    "            for incident in incidents\n",
    "        ]\n",
    "print(\"Got {} omop participants\".format(len(omop_people_stats.keys())))"
   ]
  },
  {
   "cell_type": "code",
   "execution_count": 4,
   "metadata": {},
   "outputs": [
    {
     "name": "stdout",
     "output_type": "stream",
     "text": [
      "got 83 s4s participants\n"
     ]
    }
   ],
   "source": [
    "s4s_people_stats = {}\n",
    "total_counts = defaultdict(lambda: defaultdict(list))      \n",
    "search_path = os.path.join(original_path, 'fhir', 'Participant', '*', 'SyncForScience')\n",
    "for directory in glob.glob(search_path):\n",
    "    base_uri, dir_counts = s4s_analyze.process_directory(directory)\n",
    "    person_id = directory.split('\\\\')[-2][1:]\n",
    "    s4s_people_stats[person_id] = dir_counts\n",
    "print(\"got {} s4s participants\".format(len(s4s_people_stats.keys())))"
   ]
  },
  {
   "cell_type": "code",
   "execution_count": null,
   "metadata": {
    "scrolled": false
   },
   "outputs": [],
   "source": [
    "for person, tables in omop_people_stats.items():\n",
    "    # print(\"OMOP: {}\\nMatching S4S: {}\\n\".format(omop_formatted(tables), s4s_formatted(s4s_people_stats[person])))\n",
    "    print(\"Patient: {}\\n{}\\n\".format(person, filter_procedures(tables, s4s_people_stats[person])))"
   ]
  },
  {
   "cell_type": "code",
   "execution_count": 6,
   "metadata": {},
   "outputs": [],
   "source": [
    "import pandas as pd"
   ]
  },
  {
   "cell_type": "code",
   "execution_count": null,
   "metadata": {},
   "outputs": [],
   "source": []
  }
 ],
 "metadata": {
  "kernelspec": {
   "display_name": "Python 3",
   "language": "python",
   "name": "python3"
  },
  "language_info": {
   "codemirror_mode": {
    "name": "ipython",
    "version": 3
   },
   "file_extension": ".py",
   "mimetype": "text/x-python",
   "name": "python",
   "nbconvert_exporter": "python",
   "pygments_lexer": "ipython3",
   "version": "3.7.1"
  }
 },
 "nbformat": 4,
 "nbformat_minor": 2
}
