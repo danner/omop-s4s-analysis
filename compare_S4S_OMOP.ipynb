{
 "cells": [
  {
   "cell_type": "code",
   "execution_count": 1,
   "metadata": {},
   "outputs": [],
   "source": [
    "import os\n",
    "import glob\n",
    "import csv\n",
    "from collections import Counter, defaultdict\n",
    "import pandas as pd\n",
    "import numpy as np\n",
    "\n",
    "import omop_analyze\n",
    "import s4s_analyze\n",
    "\n",
    "original_path = os.getcwd()\n",
    "\n",
    "def omop_formatted(tables):\n",
    "    return {filename: len(table) for filename, table in tables.items()}\n",
    "    \n",
    "def s4s_formatted(counts):\n",
    "    return {k: len(v) for k, v in counts.items()}\n",
    "\n",
    "def filter_matches(omop_tables, s4s_uniques):\n",
    "    return filter_procedures(omop_tables, s4s_uniques)\n",
    "\n",
    "def filter_procedures(omop_tables, s4s_uniques):\n",
    "    return omop_tables, s4s_uniques\n",
    "\n",
    "def csv_to_dicts(filename):\n",
    "    with open(filename, encoding=\"utf8\") as csv_file:\n",
    "        items = (filename, list(csv.DictReader(csv_file, delimiter=\"\\t\")))\n",
    "    return items"
   ]
  },
  {
   "cell_type": "code",
   "execution_count": 2,
   "metadata": {},
   "outputs": [],
   "source": [
    "vocab = csv_to_dicts('VOCABULARY.csv')[1]\n",
    "vocab_df = pd.DataFrame(vocab)\n",
    "concept = csv_to_dicts('CONCEPT.csv')[1]\n",
    "concept_df = pd.DataFrame(concept)"
   ]
  },
  {
   "cell_type": "code",
   "execution_count": 3,
   "metadata": {},
   "outputs": [
    {
     "name": "stdout",
     "output_type": "stream",
     "text": [
      "got 83 s4s participants\n"
     ]
    }
   ],
   "source": [
    "s4s_people = {}\n",
    "total_counts = defaultdict(lambda: defaultdict(list))      \n",
    "search_path = os.path.join(original_path, 'fhir', 'Participant', '*', 'SyncForScience')\n",
    "for directory in glob.glob(search_path):\n",
    "    base_uri, dir_counts = s4s_analyze.data_in_directory(directory)\n",
    "    person_id = directory.split('\\\\')[-2][1:]\n",
    "    s4s_people[person_id] = dir_counts\n",
    "print(\"got {} s4s participants\".format(len(s4s_people.keys())))"
   ]
  },
  {
   "cell_type": "code",
   "execution_count": 4,
   "metadata": {},
   "outputs": [
    {
     "data": {
      "text/plain": [
       "<matplotlib.axes._subplots.AxesSubplot at 0x1ee78a9e8>"
      ]
     },
     "execution_count": 4,
     "metadata": {},
     "output_type": "execute_result"
    }
   ],
   "source": [
    "##### S4S Data #####\n",
    "# Histogram showing counts for each data category, across the population. E.g., how many patients with 0 Conditions; 1-10; etc. (Ranges will be determined by the actual data distribution.)\n",
    "\n",
    "s4s_datatype_totals = {person:{title:len(items) for (title, items) in datatype.items()} for (person, datatype) in s4s_people.items()}\n",
    "s4s_df = pd.DataFrame(s4s_datatype_totals).transpose()\n",
    "\n",
    "s4s_df.plot(kind='box', figsize=(20,6), logy=True)"
   ]
  },
  {
   "cell_type": "code",
   "execution_count": 5,
   "metadata": {},
   "outputs": [],
   "source": [
    "# Count of code *systems* for each data category. E.g., fraction of SNOMED vs LOINC vs Other codes found in Conditions.\n",
    "s4s_coding_per_category = {person:{category:[item['code']['coding'] for item in items if 'code' in item.keys() and 'coding' in item['code']] for (category, items) in categories.items()} for (person, categories) in s4s_people.items()}\n",
    "s4s_systems_per_category = {person:{category:sum([[code['system'] for code in item if 'system' in code] for item in items if item], []) for (category, items) in category.items()} for (person, category) in s4s_coding_per_category.items()}\n",
    "s4s_codes_per_category = {person:{category:sum([[code['code'] for code in item if 'code' in code] for item in items if item], []) for (category, items) in category.items()} for (person, category) in s4s_coding_per_category.items()}"
   ]
  },
  {
   "cell_type": "code",
   "execution_count": null,
   "metadata": {},
   "outputs": [],
   "source": []
  },
  {
   "cell_type": "code",
   "execution_count": 6,
   "metadata": {},
   "outputs": [],
   "source": [
    "# Top N standardized codes for each data category. E.g., what were the top 10 Conditions?\n",
    "# Count of valid vs invalid codes for each data category. E.g. how many valid Condition codes, how many invalid, and how many missing?\n",
    "# Distribution of number of Codings present in CodeableConcepts for each data category. I.e., how often were translation codes supplied for Conditions?"
   ]
  },
  {
   "cell_type": "code",
   "execution_count": 7,
   "metadata": {},
   "outputs": [],
   "source": [
    "# Complete \"tree\" of FHIR paths for each data category. E.g., for Condition, which JSON elements (and sub elements, and so on, recursively) are present?\n",
    "class Node:\n",
    "    def __init__():\n",
    "        count = Counter()\n",
    "        \n",
    "\n",
    "def traverse_fhir_json(obj):\n",
    "    #string - leaf node\n",
    "    #number - leaf node\n",
    "    #dict - add node per key\n",
    "    #list - add node per item\n",
    "    #True False - leaf node\n",
    "    #None. - leaf node\n",
    "    pass\n"
   ]
  },
  {
   "cell_type": "code",
   "execution_count": 8,
   "metadata": {},
   "outputs": [],
   "source": [
    "# Same \"tree\" of FHIR paths as above, with each node annotated by count. E.g., for Condition.code.coding[0].system, how many times was this path present?\n",
    "# For each status flag, what is the distribution of values? E.g., for Condition.clinicalStatus, how often is the value active | relapse | remission | resolved?"
   ]
  },
  {
   "cell_type": "code",
   "execution_count": null,
   "metadata": {},
   "outputs": [],
   "source": []
  },
  {
   "cell_type": "code",
   "execution_count": 9,
   "metadata": {},
   "outputs": [
    {
     "name": "stdout",
     "output_type": "stream",
     "text": [
      "['condition.csv', 'observation_1.csv', 'observation_2.csv', 'procedure.csv']\n"
     ]
    },
    {
     "data": {
      "text/plain": [
       "dict_keys(['condition.csv', 'observation.csv', 'procedure.csv'])"
      ]
     },
     "execution_count": 9,
     "metadata": {},
     "output_type": "execute_result"
    }
   ],
   "source": [
    "omop_dump = omop_analyze.data_dump()\n",
    "# combine observation_1 and observation_2\n",
    "# tables['observation.csv'] = \n",
    "omop_tables = {}\n",
    "for key, value in dict(omop_dump).items():\n",
    "    if key == 'observation_1.csv':\n",
    "        omop_tables['observation.csv'] = value[1]\n",
    "    elif key == 'observation_2.csv':\n",
    "        if 'observation.csv' in omop_tables:\n",
    "            omop_tables['observation.csv'] += value[1]\n",
    "        else:\n",
    "            omop_tables['observation.csv'] = value[1]\n",
    "    else:\n",
    "        omop_tables[key] = value[1]\n",
    "omop_tables.keys()"
   ]
  },
  {
   "cell_type": "code",
   "execution_count": 10,
   "metadata": {},
   "outputs": [
    {
     "name": "stdout",
     "output_type": "stream",
     "text": [
      "['condition.csv', 'observation_1.csv', 'observation_2.csv', 'procedure.csv']\n",
      "Got 72 omop participants\n"
     ]
    }
   ],
   "source": [
    "omop_data_types = ['condition', 'observation', 'procedure']\n",
    "omop_people = omop_analyze.parse_omop()\n",
    "#combine observation_1 and observation_2\n",
    "for person, data_types in omop_people.items():\n",
    "    if 'observation_1.csv' in data_types.keys():\n",
    "        data_types['observation.csv'] = data_types['observation_1.csv']\n",
    "        del data_types['observation_1.csv']\n",
    "        if 'observation_2.csv' in data_types.keys():\n",
    "            data_types['observation.csv'].append(data_types['observation_2.csv'])\n",
    "            del data_types['observation_2.csv']\n",
    "    elif 'observation_2.csv' in data_types.keys():\n",
    "        data_types['observation.csv'] = data_types['observation_2.csv']\n",
    "        del data_types['observation_2.csv']\n",
    "print(\"Got {} omop participants\".format(len(omop_people.keys())))"
   ]
  },
  {
   "cell_type": "code",
   "execution_count": 11,
   "metadata": {
    "scrolled": false
   },
   "outputs": [
    {
     "data": {
      "text/plain": [
       "<matplotlib.axes._subplots.AxesSubplot at 0x1f5600b38>"
      ]
     },
     "execution_count": 11,
     "metadata": {},
     "output_type": "execute_result"
    },
    {
     "data": {
      "image/png": "[encoded data removed]",
      "text/plain": [
       "<Figure size 864x432 with 1 Axes>"
      ]
     },
     "metadata": {
      "needs_background": "light"
     },
     "output_type": "display_data"
    }
   ],
   "source": [
    "# Histogram showing counts for each OMOP data type, across the population. E.g., how many patients with 0 Conditions; 1-10; etc. (Ranges will be determined by the actual data distribution.)\n",
    "omop_data_types_per_person = {data_type: [len(person[data_type+'.csv']) if data_type+'.csv' in person.keys() else 0 for person in omop_people.values()] for data_type in omop_data_types}\n",
    "omop_df_types = pd.DataFrame(omop_data_types_per_person, index=omop_people.values())\n",
    "omop_df_types.boxplot(figsize=(12,6), showfliers=False)"
   ]
  },
  {
   "cell_type": "code",
   "execution_count": 12,
   "metadata": {},
   "outputs": [
    {
     "data": {
      "text/plain": [
       "Counter({'condition.csv-ICD10CM': 7212,\n",
       "         'condition.csv-ICD9CM': 4051,\n",
       "         'procedure.csv-CPT4': 1287,\n",
       "         'observation.csv-PPI': 9013,\n",
       "         'observation.csv-None': 12106,\n",
       "         'procedure.csv-ICD10CM': 186,\n",
       "         'procedure.csv-ICD10PCS': 202,\n",
       "         'procedure.csv-ICD9CM': 225,\n",
       "         'observation.csv-ICD10CM': 147,\n",
       "         'procedure.csv-ICD9Proc': 97,\n",
       "         'observation.csv-ICD9CM': 206,\n",
       "         'procedure.csv-HCPCS': 23})"
      ]
     },
     "execution_count": 12,
     "metadata": {},
     "output_type": "execute_result"
    }
   ],
   "source": [
    "# Count of standardized code *systems* for each OMOP data type. E.g., fraction of SNOMED vs LOINC vs Other codes found in condition_concept_id.\n",
    "vocabulary_sources = Counter()\n",
    "for person, tables in omop_people.items():\n",
    "    for filename, incidents in tables.items():\n",
    "        for incident in incidents:\n",
    "            vocabulary_sources[filename + '-' + incident['source_vocabulary']] += 1\n",
    "\n",
    "vocabulary_sources"
   ]
  },
  {
   "cell_type": "code",
   "execution_count": 13,
   "metadata": {},
   "outputs": [],
   "source": [
    "# Count of non-standardized code *systems* for each OMOP data type. E.g., fraction of SNOMED vs LOINC vs Other codes found in condition_source_concept_id"
   ]
  },
  {
   "cell_type": "code",
   "execution_count": 14,
   "metadata": {},
   "outputs": [],
   "source": [
    "# Top N standardized codes for each data category. E.g., what were the top 10 Conditions?\n"
   ]
  },
  {
   "cell_type": "code",
   "execution_count": 15,
   "metadata": {},
   "outputs": [
    {
     "name": "stdout",
     "output_type": "stream",
     "text": [
      "Number of rows:  2020\n",
      "36415    154\n",
      "99214     85\n",
      "99213     69\n",
      "Name: source_code_structured, dtype: int64\n",
      "2108115    154\n",
      "2414398     85\n",
      "2414397     69\n",
      "Name: procedure_source_concept_id, dtype: int64\n",
      "4000000000181312    10\n",
      "4000000000178509     9\n",
      "4000000000169699     9\n",
      "Name: visit_occurrence_id, dtype: int64\n",
      "1    1582\n",
      "      438\n",
      "Name: quantity, dtype: int64\n",
      "2108115    154\n",
      "2414398     85\n",
      "2414397     69\n",
      "Name: procedure_concept_id, dtype: int64\n",
      "CPT4        1287\n",
      "ICD9CM       225\n",
      "ICD10PCS     202\n",
      "Name: source_vocabulary, dtype: int64\n",
      "0           1337\n",
      "44786630     683\n",
      "Name: procedure_type_concept_id, dtype: int64\n",
      "0    1582\n",
      "      438\n",
      "Name: provider_id, dtype: int64\n",
      "         272\n",
      "36415    154\n",
      "99214     85\n",
      "Name: procedure_source_value, dtype: int64\n",
      "cpmc_ceders    1582\n",
      "nec_phs         438\n",
      "Name: src_hpo_id, dtype: int64\n",
      "            1439\n",
      "0            438\n",
      "42739576      53\n",
      "Name: modifier_concept_id, dtype: int64\n",
      "    2020\n",
      "Name: qualifier_source_value, dtype: int64\n"
     ]
    }
   ],
   "source": [
    "# For each OMOP column, how often was a value present vs absent?\n",
    "procedure_df = pd.DataFrame(omop_tables['procedure.csv'])\n",
    "print(\"Number of rows: \", len(procedure_df))\n",
    "procedure_columns = set(procedure_df.columns) - {\n",
    "    'person_id',\n",
    "    'procedure_date',\n",
    "    'procedure_datetime',\n",
    "    'procedure_occurrence_id'\n",
    "}\n",
    "for column in procedure_columns:\n",
    "    print(procedure_df[column].value_counts()[:3])"
   ]
  },
  {
   "cell_type": "code",
   "execution_count": 16,
   "metadata": {},
   "outputs": [
    {
     "name": "stdout",
     "output_type": "stream",
     "text": [
      "Number of found procedure_concept_ids in concept table:  93\n",
      "Total number of procedure_concept_ids:  340\n"
     ]
    }
   ],
   "source": [
    "print(\n",
    "    \"Number of found procedure_concept_ids in concept table: \",\n",
    "    len(concept_df.loc[concept_df['concept_id'].isin(procedure_df['procedure_concept_id'])])\n",
    ")\n",
    "print(\n",
    "    \"Total number of procedure_concept_ids: \",\n",
    "    len(procedure_df['procedure_concept_id'].value_counts())\n",
    ")\n",
    "missing_procedures = set(procedure_df['procedure_concept_id']) - set(concept_df['concept_id'])"
   ]
  },
  {
   "cell_type": "code",
   "execution_count": 17,
   "metadata": {},
   "outputs": [
    {
     "name": "stdout",
     "output_type": "stream",
     "text": [
      "Number of rows:  21472\n",
      "       20908\n",
      "2.0      251\n",
      "0.0       91\n",
      "Name: value_as_number, dtype: int64\n",
      "0         9999\n",
      "903096    3758\n",
      "          3007\n",
      "Name: value_source_concept_id, dtype: int64\n",
      "0           9807\n",
      "903096      3758\n",
      "45878245     639\n",
      "Name: value_as_concept_id, dtype: int64\n",
      "             3020\n",
      "807029061     182\n",
      "914381877     132\n",
      "Name: questionnaire_response_id, dtype: int64\n",
      "None      12106\n",
      "PPI        9013\n",
      "ICD9CM      206\n",
      "Name: source_vocabulary, dtype: int64\n",
      "     21119\n",
      "0      353\n",
      "Name: provider_id, dtype: int64\n",
      "0    18465\n",
      "      3007\n",
      "Name: qualifier_concept_id, dtype: int64\n",
      "0          9455\n",
      "4041306    2654\n",
      "1586155     139\n",
      "Name: observation_concept_id, dtype: int64\n",
      "rdr            18465\n",
      "cpmc_ceders     2654\n",
      "nec_phs          353\n",
      "Name: src_hpo_id, dtype: int64\n",
      "    21472\n",
      "Name: unit_source_value, dtype: int64\n",
      "0    18465\n",
      "      3007\n",
      "Name: unit_concept_id, dtype: int64\n",
      "No matching concept                   12106\n",
      "White_WhiteSpecific                     139\n",
      "RecreationalDrugUse_WhichDrugsUsed      129\n",
      "Name: source_code_structured, dtype: int64\n",
      "45905771    18452\n",
      "38000280     3007\n",
      "581413         13\n",
      "Name: observation_type_concept_id, dtype: int64\n",
      "bp_diastolic    325\n",
      "bp_systolic     325\n",
      "weight          317\n",
      "Name: observation_source_value, dtype: int64\n",
      "0          12106\n",
      "1586155      139\n",
      "1585636      129\n",
      "Name: observation_source_concept_id, dtype: int64\n",
      "               6729\n",
      "PMI_Skip       3758\n",
      "PIIState_IL      73\n",
      "Name: value_source_value, dtype: int64\n",
      "    21472\n",
      "Name: qualifier_source_value, dtype: int64\n",
      "       9575\n",
      "No     1876\n",
      "Yes     911\n",
      "Name: value_as_string, dtype: int64\n",
      "                    18452\n",
      "4000000000001313        8\n",
      "4000000000003157        8\n",
      "Name: visit_occurrence_id, dtype: int64\n"
     ]
    }
   ],
   "source": [
    "observation_df = pd.DataFrame(omop_tables['observation.csv'])\n",
    "print(\"Number of rows: \", len(observation_df))\n",
    "observation_columns = set(observation_df.columns) - {\n",
    "    'observation_id',\n",
    "    'person_id',\n",
    "    'observation_date',\n",
    "    'observation_datetime',\n",
    "}\n",
    "for column in observation_columns:\n",
    "    print(observation_df[column].value_counts()[:3])"
   ]
  },
  {
   "cell_type": "code",
   "execution_count": 18,
   "metadata": {},
   "outputs": [
    {
     "name": "stdout",
     "output_type": "stream",
     "text": [
      "Number of found observation_concept_ids in concept table:  66\n",
      "Total number of observation_concept_ids:  215\n"
     ]
    },
    {
     "data": {
      "text/plain": [
       "{'1585246',\n",
       " '1585247',\n",
       " '1585248',\n",
       " '1585249',\n",
       " '1585250',\n",
       " '1585252',\n",
       " '1585259',\n",
       " '1585260',\n",
       " '1585344',\n",
       " '1585348',\n",
       " '1585357',\n",
       " '1585370',\n",
       " '1585475',\n",
       " '1585477',\n",
       " '1585480',\n",
       " '1585481',\n",
       " '1585482',\n",
       " '1585483',\n",
       " '1585484',\n",
       " '1585485',\n",
       " '1585486',\n",
       " '1585487',\n",
       " '1585488',\n",
       " '1585489',\n",
       " '1585490',\n",
       " '1585491',\n",
       " '1585492',\n",
       " '1585494',\n",
       " '1585495',\n",
       " '1585498',\n",
       " '1585501',\n",
       " '1585504',\n",
       " '1585507',\n",
       " '1585510',\n",
       " '1585514',\n",
       " '1585527',\n",
       " '1585532',\n",
       " '1585551',\n",
       " '1585552',\n",
       " '1585576',\n",
       " '1585596',\n",
       " '1585597',\n",
       " '1585598',\n",
       " '1585636',\n",
       " '1585647',\n",
       " '1585650',\n",
       " '1585656',\n",
       " '1585668',\n",
       " '1585674',\n",
       " '1585680',\n",
       " '1585686',\n",
       " '1585698',\n",
       " '1585704',\n",
       " '1585766',\n",
       " '1585772',\n",
       " '1585778',\n",
       " '1585789',\n",
       " '1585795',\n",
       " '1585796',\n",
       " '1585802',\n",
       " '1585803',\n",
       " '1585806',\n",
       " '1585811',\n",
       " '1585815',\n",
       " '1585820',\n",
       " '1585838',\n",
       " '1585845',\n",
       " '1585850',\n",
       " '1585865',\n",
       " '1585866',\n",
       " '1585871',\n",
       " '1585878',\n",
       " '1585879',\n",
       " '1585886',\n",
       " '1585889',\n",
       " '1585890',\n",
       " '1585892',\n",
       " '1585899',\n",
       " '1585907',\n",
       " '1585908',\n",
       " '1585909',\n",
       " '1585910',\n",
       " '1585911',\n",
       " '1585912',\n",
       " '1585914',\n",
       " '1585915',\n",
       " '1585916',\n",
       " '1585917',\n",
       " '1585923',\n",
       " '1585924',\n",
       " '1585925',\n",
       " '1585926',\n",
       " '1585927',\n",
       " '1585928',\n",
       " '1585929',\n",
       " '1585930',\n",
       " '1585931',\n",
       " '1585932',\n",
       " '1585933',\n",
       " '1585950',\n",
       " '1585952',\n",
       " '1585961',\n",
       " '1585962',\n",
       " '1585963',\n",
       " '1585964',\n",
       " '1585965',\n",
       " '1585966',\n",
       " '1586094',\n",
       " '1586099',\n",
       " '1586102',\n",
       " '1586103',\n",
       " '1586104',\n",
       " '1586107',\n",
       " '1586110',\n",
       " '1586113',\n",
       " '1586116',\n",
       " '1586119',\n",
       " '1586124',\n",
       " '1586127',\n",
       " '1586130',\n",
       " '1586132',\n",
       " '1586133',\n",
       " '1586137',\n",
       " '1586140',\n",
       " '1586149',\n",
       " '1586151',\n",
       " '1586152',\n",
       " '1586155',\n",
       " '1586157',\n",
       " '1586158',\n",
       " '1586160',\n",
       " '1586163',\n",
       " '1586166',\n",
       " '1586169',\n",
       " '1586174',\n",
       " '1586177',\n",
       " '1586182',\n",
       " '1586185',\n",
       " '1586190',\n",
       " '1586193',\n",
       " '1586213',\n",
       " '1586221',\n",
       " '1586222',\n",
       " '1586224',\n",
       " '903058',\n",
       " '903062',\n",
       " '903063',\n",
       " '903064',\n",
       " '903065'}"
      ]
     },
     "execution_count": 18,
     "metadata": {},
     "output_type": "execute_result"
    }
   ],
   "source": [
    "print(\n",
    "    \"Number of found observation_concept_ids in concept table: \",\n",
    "    len(concept_df.loc[concept_df['concept_id'].isin(observation_df['observation_concept_id'])])\n",
    ")\n",
    "print(\n",
    "    \"Total number of observation_concept_ids: \",\n",
    "    len(observation_df['observation_concept_id'].value_counts())\n",
    ")\n",
    "missing_observations = set(observation_df['observation_concept_id']) - set(concept_df['concept_id'])\n",
    "observation_df[observation_df['observation_concept_id'].isin(missing_observations)]\n",
    "missing_observations"
   ]
  },
  {
   "cell_type": "code",
   "execution_count": 19,
   "metadata": {},
   "outputs": [
    {
     "name": "stdout",
     "output_type": "stream",
     "text": [
      "Number of rows:  11263\n",
      "C50.912    610\n",
      "C79.51     404\n",
      "C50.919    396\n",
      "Name: source_code_structured, dtype: int64\n",
      "      10898\n",
      "AD      365\n",
      "Name: condition_status_source_value, dtype: int64\n",
      "ICD10CM    7212\n",
      "ICD9CM     4051\n",
      "Name: source_vocabulary, dtype: int64\n",
      "0    6545\n",
      "     4718\n",
      "Name: provider_id, dtype: int64\n",
      "45556996    610\n",
      "45552285    404\n",
      "45600511    396\n",
      "Name: condition_source_concept_id, dtype: int64\n",
      "cpmc_ceders    6545\n",
      "nec_phs        4718\n",
      "Name: src_hpo_id, dtype: int64\n",
      "137809     872\n",
      "4157332    506\n",
      "0          495\n",
      "Name: condition_concept_id, dtype: int64\n",
      "0           6180\n",
      "4203942      365\n",
      "44821787     144\n",
      "Name: condition_status_concept_id, dtype: int64\n",
      "    11263\n",
      "Name: stop_reason, dtype: int64\n",
      "C50.912    610\n",
      "C79.51     404\n",
      "C50.919    396\n",
      "Name: condition_source_value, dtype: int64\n",
      "4000000000023113    45\n",
      "4000000000027131    43\n",
      "4000000000030830    43\n",
      "Name: visit_occurrence_id, dtype: int64\n",
      "0           4514\n",
      "44786629    4284\n",
      "44786627    2465\n",
      "Name: condition_type_concept_id, dtype: int64\n"
     ]
    }
   ],
   "source": [
    "# For each OMOP column, how often was a value present vs absent?\n",
    "condition_df = pd.DataFrame(omop_tables['condition.csv'])\n",
    "print(\"Number of rows: \", len(condition_df))\n",
    "condition_columns = set(condition_df.columns) - {\n",
    "    'person_id',\n",
    "    'condition_start_date',\n",
    "    'condition_start_datetime',\n",
    "    'condition_end_date',\n",
    "    'condition_end_datetime',\n",
    "    'condition_occurrence_id'\n",
    "}\n",
    "for column in condition_columns:\n",
    "    print(condition_df[column].value_counts()[:3])"
   ]
  },
  {
   "cell_type": "code",
   "execution_count": 20,
   "metadata": {},
   "outputs": [
    {
     "name": "stdout",
     "output_type": "stream",
     "text": [
      "Number of found condition_concept_ids in concept table:  775\n",
      "Total number of condition_concept_ids:  775\n"
     ]
    }
   ],
   "source": [
    "print(\n",
    "    \"Number of found condition_concept_ids in concept table: \",\n",
    "    len(concept_df.loc[concept_df['concept_id'].isin(condition_df['condition_concept_id'])])\n",
    ")\n",
    "print(\n",
    "    \"Total number of condition_concept_ids: \",\n",
    "    len(condition_df['condition_concept_id'].value_counts())\n",
    ")"
   ]
  },
  {
   "cell_type": "code",
   "execution_count": 21,
   "metadata": {
    "scrolled": false
   },
   "outputs": [],
   "source": [
    "# for person, tables in omop_people_stats.items():\n",
    "#     # print(\"OMOP: {}\\nMatching S4S: {}\\n\".format(omop_formatted(tables), s4s_formatted(s4s_people_stats[person])))\n",
    "#     print(\"Patient: {}\\n{}\\n\".format(person, filter_procedures(tables, s4s_people_stats[person])))"
   ]
  },
  {
   "cell_type": "code",
   "execution_count": 22,
   "metadata": {},
   "outputs": [],
   "source": [
    "##### Comparing OMOP to S4S #####\n",
    "# Draw a distribution of \"total # data elements in OMOP vs S4S\" for each data category. E;g., each patient would contribute one dot to a Condition Count histogram by taking (# S4S Conditions - # OMOP conditions), which will be a positive number if more S4S conditions, and a negative number of more OMOP conditions.\n",
    "# TODO (how to specify): show which values appeared in S4S but not OMOP, and vice versa.\n",
    "# TODO: after early exploration, what else do we want to evaluate?\n"
   ]
  },
  {
   "cell_type": "code",
   "execution_count": null,
   "metadata": {},
   "outputs": [],
   "source": []
  }
 ],
 "metadata": {
  "kernelspec": {
   "display_name": "Python 3",
   "language": "python",
   "name": "python3"
  },
  "language_info": {
   "codemirror_mode": {
    "name": "ipython",
    "version": 3
   },
   "file_extension": ".py",
   "mimetype": "text/x-python",
   "name": "python",
   "nbconvert_exporter": "python",
   "pygments_lexer": "ipython3",
   "version": "3.7.1"
  }
 },
 "nbformat": 4,
 "nbformat_minor": 2
}
