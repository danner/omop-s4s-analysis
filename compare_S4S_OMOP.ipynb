{
 "cells": [
  {
   "cell_type": "code",
   "execution_count": 12,
   "metadata": {},
   "outputs": [],
   "source": [
    "import os\n",
    "import glob\n",
    "from collections import Counter, defaultdict\n",
    "import pandas as pd\n",
    "\n",
    "import omop_analyze\n",
    "import s4s_analyze\n",
    "\n",
    "original_path = os.getcwd()\n",
    "\n",
    "def omop_formatted(tables):\n",
    "    return {filename: len(table) for filename, table in tables.items()}\n",
    "    \n",
    "def s4s_formatted(counts):\n",
    "    return {k: len(v) for k, v in counts.items()}\n",
    "\n",
    "def filter_matches(omop_tables, s4s_uniques):\n",
    "    return filter_procedures(omop_tables, s4s_uniques)\n",
    "\n",
    "def filter_procedures(omop_tables, s4s_uniques):\n",
    "    return omop_tables, s4s_uniques"
   ]
  },
  {
   "cell_type": "code",
   "execution_count": 25,
   "metadata": {},
   "outputs": [
    {
     "name": "stdout",
     "output_type": "stream",
     "text": [
      "['condition.csv', 'observation_1.csv', 'observation_2.csv', 'procedure.csv']\n",
      "Got 72 omop participants\n"
     ]
    }
   ],
   "source": [
    "omop_data_types = ['condition', 'observation', 'procedure']\n",
    "omop_people = omop_analyze.parse_omop()\n",
    "#combine observation_1 and observation_2\n",
    "for person, data_types in omop_people.items():\n",
    "    if 'observation_1.csv' in data_types.keys():\n",
    "        data_types['observation.csv'] = data_types['observation_1.csv']\n",
    "        del data_types['observation_1.csv']\n",
    "        if 'observation_2.csv' in data_types.keys():\n",
    "            data_types['observation.csv'].append(data_types['observation_2.csv'])\n",
    "            del data_types['observation_2.csv']\n",
    "    elif 'observation_2.csv' in data_types.keys():\n",
    "        data_types['observation.csv'] = data_types['observation_2.csv']\n",
    "        del data_types['observation_2.csv']\n",
    "print(\"Got {} omop participants\".format(len(omop_people.keys())))\n"
   ]
  },
  {
   "cell_type": "code",
   "execution_count": 56,
   "metadata": {
    "scrolled": false
   },
   "outputs": [
    {
     "name": "stdout",
     "output_type": "stream",
     "text": [
      "condition has 46 people with zero entries\n",
      "observation has 0 people with zero entries\n",
      "procedure has 45 people with zero entries\n"
     ]
    },
    {
     "data": {
      "text/plain": [
       "array([<matplotlib.axes._subplots.AxesSubplot object at 0x00000000236CA588>,\n",
       "       <matplotlib.axes._subplots.AxesSubplot object at 0x0000000023979A90>,\n",
       "       <matplotlib.axes._subplots.AxesSubplot object at 0x0000000023779160>],\n",
       "      dtype=object)"
      ]
     },
     "execution_count": 56,
     "metadata": {},
     "output_type": "execute_result"
    },
    {
     "data": {
      "image/png": "[encoded data removed]",
      "text/plain": [
       "<Figure size 864x576 with 3 Axes>"
      ]
     },
     "metadata": {
      "needs_background": "light"
     },
     "output_type": "display_data"
    }
   ],
   "source": [
    "# Histogram showing counts for each OMOP data type, across the population. E.g., how many patients with 0 Conditions; 1-10; etc. (Ranges will be determined by the actual data distribution.)\n",
    "omop_data_types_per_person = {data_type: [len(person[data_type+'.csv']) if data_type+'.csv' in person.keys() else 0 for person in omop_people.values()] for data_type in omop_data_types}\n",
    "omop_df_types = pd.DataFrame(omop_data_types_per_person, index=omop_people.keys())\n",
    "for data_type, counts in omop_data_types_per_person.items():\n",
    "    print(\"{} has {} people with zero entries\".format(data_type, counts.count(0)))\n",
    "omop_df_types.plot(kind='hist', bins=20, subplots=True, sharex=False, figsize=(12, 8))"
   ]
  },
  {
   "cell_type": "code",
   "execution_count": 55,
   "metadata": {},
   "outputs": [
    {
     "data": {
      "text/plain": [
       "Counter({'condition.csv-ICD10CM': 7212,\n",
       "         'condition.csv-ICD9CM': 4051,\n",
       "         'observation_2.csv-PPI': 4323,\n",
       "         'observation_2.csv-None': 4254,\n",
       "         'procedure.csv-CPT4': 1287,\n",
       "         'procedure.csv-ICD10CM': 186,\n",
       "         'observation_1.csv-PPI': 4690,\n",
       "         'observation_1.csv-None': 7852,\n",
       "         'procedure.csv-ICD10PCS': 202,\n",
       "         'procedure.csv-ICD9CM': 225,\n",
       "         'observation_1.csv-ICD10CM': 129,\n",
       "         'procedure.csv-ICD9Proc': 97,\n",
       "         'observation_1.csv-ICD9CM': 119,\n",
       "         'observation_2.csv-ICD9CM': 87,\n",
       "         'observation_2.csv-ICD10CM': 18,\n",
       "         'procedure.csv-HCPCS': 23})"
      ]
     },
     "execution_count": 55,
     "metadata": {},
     "output_type": "execute_result"
    }
   ],
   "source": [
    "# Count of standardized code *systems* for each OMOP data type. E.g., fraction of SNOMED vs LOINC vs Other codes found in condition_concept_id.\n",
    "vocabulary_sources = Counter()\n",
    "for person, tables in omop_people.items():\n",
    "    for filename, incidents in tables.items():\n",
    "        for incident in incidents:\n",
    "            vocabulary_sources[filename + '-' + incident['source_vocabulary']] += 1\n",
    "vocabulary_sources"
   ]
  },
  {
   "cell_type": "code",
   "execution_count": null,
   "metadata": {},
   "outputs": [],
   "source": [
    "# Count of non-standardized code *systems* for each OMOP data type. E.g., fraction of SNOMED vs LOINC vs Other codes found in condition_source_concept_id"
   ]
  },
  {
   "cell_type": "code",
   "execution_count": null,
   "metadata": {},
   "outputs": [],
   "source": [
    "# Top N standardized codes for each data category. E.g., what were the top 10 Conditions?\n",
    "standardized_codes = Counter()\n",
    "for person, tables in omop_people.items():\n",
    "    for filename, incidents in tables.items():\n",
    "        for incident in incidents:\n",
    "            vocabulary_sources[filename + '-' + incident['source_vocabulary']] += 1\n",
    "vocabulary_sources"
   ]
  },
  {
   "cell_type": "code",
   "execution_count": null,
   "metadata": {},
   "outputs": [],
   "source": [
    "# For each OMOP column, how often was a value present vs absent? "
   ]
  },
  {
   "cell_type": "code",
   "execution_count": null,
   "metadata": {},
   "outputs": [],
   "source": [
    "# For each OMOP column representing a status flag, what is the distribution of values? E.g., for condition_status_concept_id, what values appear and what are their counts? This should be presented by vocabulary name + concept, not by integer \"concept_id\"."
   ]
  },
  {
   "cell_type": "code",
   "execution_count": null,
   "metadata": {},
   "outputs": [],
   "source": [
    "# omop_people_stats = {}\n",
    "# for person, tables in omop_people.items():\n",
    "#     omop_people_stats[person] = {}\n",
    "#     for filename, incidents in tables.items():\n",
    "#         omop_people_stats[person][filename] = [\n",
    "#             incident[omop_analyze.important_column[filename]]\n",
    "#             for incident in incidents\n",
    "#         ]"
   ]
  },
  {
   "cell_type": "code",
   "execution_count": null,
   "metadata": {},
   "outputs": [],
   "source": [
    "s4s_people_stats = {}\n",
    "total_counts = defaultdict(lambda: defaultdict(list))      \n",
    "search_path = os.path.join(original_path, 'fhir', 'Participant', '*', 'SyncForScience')\n",
    "for directory in glob.glob(search_path):\n",
    "    base_uri, dir_counts = s4s_analyze.process_directory(directory)\n",
    "    person_id = directory.split('\\\\')[-2][1:]\n",
    "    s4s_people_stats[person_id] = dir_counts\n",
    "print(\"got {} s4s participants\".format(len(s4s_people_stats.keys())))"
   ]
  },
  {
   "cell_type": "code",
   "execution_count": null,
   "metadata": {
    "scrolled": false
   },
   "outputs": [],
   "source": [
    "# for person, tables in omop_people_stats.items():\n",
    "#     # print(\"OMOP: {}\\nMatching S4S: {}\\n\".format(omop_formatted(tables), s4s_formatted(s4s_people_stats[person])))\n",
    "#     print(\"Patient: {}\\n{}\\n\".format(person, filter_procedures(tables, s4s_people_stats[person])))"
   ]
  },
  {
   "cell_type": "code",
   "execution_count": null,
   "metadata": {},
   "outputs": [],
   "source": [
    "s4s_df = pd.DataFrame(s4s_people_stats)\n",
    "s4s_df"
   ]
  },
  {
   "cell_type": "code",
   "execution_count": null,
   "metadata": {},
   "outputs": [],
   "source": []
  }
 ],
 "metadata": {
  "kernelspec": {
   "display_name": "Python 3",
   "language": "python",
   "name": "python3"
  },
  "language_info": {
   "codemirror_mode": {
    "name": "ipython",
    "version": 3
   },
   "file_extension": ".py",
   "mimetype": "text/x-python",
   "name": "python",
   "nbconvert_exporter": "python",
   "pygments_lexer": "ipython3",
   "version": "3.7.1"
  }
 },
 "nbformat": 4,
 "nbformat_minor": 2
}
