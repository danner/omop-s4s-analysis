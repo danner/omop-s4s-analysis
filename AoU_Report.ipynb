{
 "cells": [
  {
   "cell_type": "markdown",
   "metadata": {},
   "source": [
    "# AoU FHIR & OMOP Analysis\n",
    "Information about Sync for Science and OMOP patients, and comparing the data of each."
   ]
  },
  {
   "cell_type": "markdown",
   "metadata": {},
   "source": [
    "First, define the locations of the data we wish to analyze and compare, and import the necessary modules."
   ]
  },
  {
   "cell_type": "code",
   "execution_count": 3,
   "metadata": {},
   "outputs": [],
   "source": [
    "import omop_analyze\n",
    "import fhir_analyze\n",
    "import aou_analysis\n",
    "\n",
    "omop_directory = \".\\\\omop\\\\20190326\"\n",
    "fhir_directory = \".\\\\fhir\\\\Participant\"\n",
    "current_directory = os.getcwd()"
   ]
  },
  {
   "cell_type": "markdown",
   "metadata": {},
   "source": [
    "## FHIR Summary\n",
    "pull in fhir data, let's find some basic data on the number of patients and number of entries retrived"
   ]
  },
  {
   "cell_type": "code",
   "execution_count": null,
   "metadata": {},
   "outputs": [],
   "source": [
    "fhir_patients = fhir_analyze.traverse_directory(fhir_directory)"
   ]
  }
 ],
 "metadata": {
  "kernelspec": {
   "display_name": "Python 3",
   "language": "python",
   "name": "python3"
  },
  "language_info": {
   "codemirror_mode": {
    "name": "ipython",
    "version": 3
   },
   "file_extension": ".py",
   "mimetype": "text/x-python",
   "name": "python",
   "nbconvert_exporter": "python",
   "pygments_lexer": "ipython3",
   "version": "3.7.3"
  }
 },
 "nbformat": 4,
 "nbformat_minor": 2
}
